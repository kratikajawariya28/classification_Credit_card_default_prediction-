{
  "nbformat": 4,
  "nbformat_minor": 0,
  "metadata": {
    "colab": {
      "private_outputs": true,
      "provenance": [],
      "collapsed_sections": [
        "u3PMJOP6ngxN"
      ],
      "include_colab_link": true
    },
    "kernelspec": {
      "name": "python3",
      "display_name": "Python 3"
    },
    "language_info": {
      "name": "python"
    }
  },
  "cells": [
    {
      "cell_type": "markdown",
      "metadata": {
        "id": "view-in-github",
        "colab_type": "text"
      },
      "source": [
        "<a href=\"https://colab.research.google.com/github/kratikajawariya28/classification_Credit_card_default_prediction-/blob/main/KJ_classification_Credit_card_default_prediction_.ipynb\" target=\"_parent\"><img src=\"https://colab.research.google.com/assets/colab-badge.svg\" alt=\"Open In Colab\"/></a>"
      ]
    },
    {
      "cell_type": "markdown",
      "source": [
        "# **Project Name**    -\n",
        "\n"
      ],
      "metadata": {
        "id": "vncDsAP0Gaoa"
      }
    },
    {
      "cell_type": "markdown",
      "source": [
        "##### **Project Type**    - EDA/Regression/Classification/Unsupervised\n",
        "##### **Contribution**    - Team\n",
        "##### **Team Member 1 -**  Dharmendra Yadav\n",
        "##### **Team Member 2 -**  Pranita Tiwari\n",
        "##### **Team Member 3 -**  Kratika Jawariya\n"
      ],
      "metadata": {
        "id": "beRrZCGUAJYm"
      }
    },
    {
      "cell_type": "markdown",
      "source": [
        "# **Project Summary -**"
      ],
      "metadata": {
        "id": "FJNUwmbgGyua"
      }
    },
    {
      "cell_type": "markdown",
      "source": [
        "Write the summary here within 500-600 words."
      ],
      "metadata": {
        "id": "F6v_1wHtG2nS"
      }
    },
    {
      "cell_type": "markdown",
      "source": [
        "This project revolves around the crucial task of predicting credit card payment defaults among customers in Taiwan. Rather than focusing solely on binary classification (credibility or not), our primary objective is to estimate the probability of default, which offers deeper insights into risk assessment. The dataset used encompasses 23 explanatory variables, including credit amount, gender, education, marital status, age, and extensive payment history, with the ultimate goal of developing a predictive model that can effectively identify customers at risk of defaulting on their credit card payments.\n",
        "\n",
        "**Data Overview: **\n",
        "\n",
        "The dataset at the core of this project consists of a binary response variable, \"Default Payment,\" where 1 indicates a default, and 0 signifies no default. It's paired with a comprehensive set of explanatory variables. These variables encompass a wide range of aspects, such as the credit amount extended, gender of the cardholder, their educational background, marital status, age, and the history of past payments over several months. Additionally, it includes data on bill statement amounts and previous payment amounts, providing a holistic view of each customer's financial behavior.\n",
        "\n",
        "\n",
        "**Business Objective:**\n",
        "\n",
        "The primary aim of this project is to develop a robust predictive model capable of identifying customers who are likely to default on their credit card payments in the upcoming months. Credit card default, in this context, refers to the scenario where individuals consistently fail to pay the Minimum Amount Due for consecutive months. By predicting potential defaults proactively, our objective is to empower credit card companies with the tools to make informed decisions. This, in turn, can significantly reduce the incidence of defaults and facilitate targeted engagement with low-risk customer segments.\n",
        "\n",
        "**Key Insights and Impact:**\n",
        "\n",
        "**The impact of this project extends to several crucial areas:**\n",
        "\n",
        "**Accurate Prediction:**\n",
        "\n",
        "The developed predictive models offer the ability to identify potential defaulters at an early stage of delinquency.\n",
        "\n",
        "**Risk Reduction:**\n",
        "\n",
        "Enhanced risk assessment and management strategies enable credit card companies to minimize the impact of defaults on their financial health.\n",
        "\n",
        "**Targeted Marketing:**\n",
        "\n",
        "With the ability to predict potential defaults, credit card companies can tailor their credit offerings and engage effectively with low-risk customers.\n",
        "\n",
        "**Operational Efficiency:**\n",
        "\n",
        "Efficient resource allocation and streamlined credit approval processes lead to a more optimized and cost-effective operation.\n",
        "\n",
        "**In conclusion,** this project addresses a significant concern within the credit card industry. It provides insights and tools that can help manage credit card default risk effectively, resulting in improved financial outcomes and operational efficiency. By predicting and proactively addressing defaults, credit card companies can navigate the challenges of risk management more effectively and offer better services to their customers.\n",
        "\n",
        "\n",
        "\n",
        "\n"
      ],
      "metadata": {
        "id": "aP-MIm3_9B1u"
      }
    },
    {
      "cell_type": "markdown",
      "source": [
        "# **GitHub Link -**"
      ],
      "metadata": {
        "id": "w6K7xa23Elo4"
      }
    },
    {
      "cell_type": "markdown",
      "source": [
        "Provide your GitHub Link here."
      ],
      "metadata": {
        "id": "h1o69JH3Eqqn"
      }
    },
    {
      "cell_type": "markdown",
      "source": [
        "# **Problem Statement**\n"
      ],
      "metadata": {
        "id": "yQaldy8SH6Dl"
      }
    },
    {
      "cell_type": "markdown",
      "source": [
        "**Write Problem Statement Here.**"
      ],
      "metadata": {
        "id": "DpeJGUA3kjGy"
      }
    },
    {
      "cell_type": "markdown",
      "source": [
        "This project is dedicated to forecasting customer payment defaults in Taiwan. From a risk management viewpoint, the precision of predicting the probability of default holds greater significance than simply categorizing clients as either credible or not. We can employ the K-S chart to assess which customers are likely to experience credit card payment defaults."
      ],
      "metadata": {
        "id": "R8H7QAoL9phX"
      }
    },
    {
      "cell_type": "markdown",
      "source": [
        "# **General Guidelines** : -  "
      ],
      "metadata": {
        "id": "mDgbUHAGgjLW"
      }
    },
    {
      "cell_type": "markdown",
      "source": [
        "1.   Well-structured, formatted, and commented code is required.\n",
        "2.   Exception Handling, Production Grade Code & Deployment Ready Code will be a plus. Those students will be awarded some additional credits.\n",
        "     \n",
        "     The additional credits will have advantages over other students during Star Student selection.\n",
        "       \n",
        "             [ Note: - Deployment Ready Code is defined as, the whole .ipynb notebook should be executable in one go\n",
        "                       without a single error logged. ]\n",
        "\n",
        "3.   Each and every logic should have proper comments.\n",
        "4. You may add as many number of charts you want. Make Sure for each and every chart the following format should be answered.\n",
        "        \n",
        "\n",
        "```\n",
        "# Chart visualization code\n",
        "```\n",
        "            \n",
        "\n",
        "*   Why did you pick the specific chart?\n",
        "*   What is/are the insight(s) found from the chart?\n",
        "* Will the gained insights help creating a positive business impact?\n",
        "Are there any insights that lead to negative growth? Justify with specific reason.\n",
        "\n",
        "5. You have to create at least 15 logical & meaningful charts having important insights.\n",
        "\n",
        "\n",
        "[ Hints : - Do the Vizualization in  a structured way while following \"UBM\" Rule.\n",
        "\n",
        "U - Univariate Analysis,\n",
        "\n",
        "B - Bivariate Analysis (Numerical - Categorical, Numerical - Numerical, Categorical - Categorical)\n",
        "\n",
        "M - Multivariate Analysis\n",
        " ]\n",
        "\n",
        "\n",
        "\n",
        "\n",
        "\n",
        "6. You may add more ml algorithms for model creation. Make sure for each and every algorithm, the following format should be answered.\n",
        "\n",
        "\n",
        "*   Explain the ML Model used and it's performance using Evaluation metric Score Chart.\n",
        "\n",
        "\n",
        "*   Cross- Validation & Hyperparameter Tuning\n",
        "\n",
        "*   Have you seen any improvement? Note down the improvement with updates Evaluation metric Score Chart.\n",
        "\n",
        "*   Explain each evaluation metric's indication towards business and the business impact pf the ML model used.\n",
        "\n",
        "\n",
        "\n",
        "\n",
        "\n",
        "\n",
        "\n",
        "\n",
        "\n",
        "\n",
        "\n",
        "\n",
        "\n",
        "\n",
        "\n",
        "\n",
        "\n",
        "\n"
      ],
      "metadata": {
        "id": "ZrxVaUj-hHfC"
      }
    },
    {
      "cell_type": "markdown",
      "source": [
        "# ***Let's Begin !***"
      ],
      "metadata": {
        "id": "O_i_v8NEhb9l"
      }
    },
    {
      "cell_type": "markdown",
      "source": [
        "## ***1. Know Your Data***"
      ],
      "metadata": {
        "id": "HhfV-JJviCcP"
      }
    },
    {
      "cell_type": "markdown",
      "source": [
        "### Import Libraries"
      ],
      "metadata": {
        "id": "Y3lxredqlCYt"
      }
    },
    {
      "cell_type": "code",
      "source": [
        "\n",
        "!pip install seaborn"
      ],
      "metadata": {
        "id": "SUKPnHLlwrhn"
      },
      "execution_count": null,
      "outputs": []
    },
    {
      "cell_type": "code",
      "source": [
        "# Import Libraries\n",
        "\n",
        "import numpy as np\n",
        "import pandas as pd\n",
        "import seaborn as sns\n",
        "import matplotlib.pyplot as plt\n",
        "%matplotlib inline\n",
        "from sklearn.svm import SVC\n",
        "from sklearn.model_selection import KFold\n",
        "from sklearn.model_selection import GridSearchCV\n",
        "from sklearn.model_selection import train_test_split\n",
        "from sklearn.model_selection import StratifiedShuffleSplit\n",
        "from sklearn.model_selection import cross_val_score\n",
        "from sklearn.model_selection import cross_validate\n",
        "\n",
        "from sklearn.preprocessing import StandardScaler\n",
        "from sklearn.pipeline import make_pipeline\n",
        "from sklearn.pipeline import Pipeline\n",
        "\n"
      ],
      "metadata": {
        "id": "M8Vqi-pPk-HR"
      },
      "execution_count": null,
      "outputs": []
    },
    {
      "cell_type": "markdown",
      "source": [
        "### Dataset Loading"
      ],
      "metadata": {
        "id": "3RnN4peoiCZX"
      }
    },
    {
      "cell_type": "code",
      "source": [
        "# Load Dataset\n",
        "from google.colab import drive\n",
        "drive.mount('/content/drive')\n",
        "\n"
      ],
      "metadata": {
        "id": "4CkvbW_SlZ_R"
      },
      "execution_count": null,
      "outputs": []
    },
    {
      "cell_type": "code",
      "source": [
        "df = pd.read_excel('/content/default of credit card clients.xls')"
      ],
      "metadata": {
        "id": "MBDIHYtuoGb8"
      },
      "execution_count": null,
      "outputs": []
    },
    {
      "cell_type": "markdown",
      "source": [
        "### Dataset First View"
      ],
      "metadata": {
        "id": "x71ZqKXriCWQ"
      }
    },
    {
      "cell_type": "code",
      "source": [
        "# Dataset First Look\n",
        "df.head()"
      ],
      "metadata": {
        "id": "LWNFOSvLl09H"
      },
      "execution_count": null,
      "outputs": []
    },
    {
      "cell_type": "markdown",
      "source": [
        "### Dataset Rows & Columns count"
      ],
      "metadata": {
        "id": "7hBIi_osiCS2"
      }
    },
    {
      "cell_type": "code",
      "source": [
        "# Dataset Rows & Columns count\n",
        "df.shape"
      ],
      "metadata": {
        "id": "Kllu7SJgmLij"
      },
      "execution_count": null,
      "outputs": []
    },
    {
      "cell_type": "markdown",
      "source": [
        "In the data table, we have find 30000 rows and 25 columns."
      ],
      "metadata": {
        "id": "8-X_MA2NqwXx"
      }
    },
    {
      "cell_type": "markdown",
      "source": [
        "### Dataset Information"
      ],
      "metadata": {
        "id": "JlHwYmJAmNHm"
      }
    },
    {
      "cell_type": "code",
      "source": [
        "# Dataset Info\n",
        "df.info()"
      ],
      "metadata": {
        "id": "e9hRXRi6meOf"
      },
      "execution_count": null,
      "outputs": []
    },
    {
      "cell_type": "markdown",
      "source": [
        "#### Duplicate Values"
      ],
      "metadata": {
        "id": "35m5QtbWiB9F"
      }
    },
    {
      "cell_type": "code",
      "source": [
        "# Dataset Duplicate Value Count\n",
        "df.duplicated().sum()"
      ],
      "metadata": {
        "id": "1sLdpKYkmox0"
      },
      "execution_count": null,
      "outputs": []
    },
    {
      "cell_type": "markdown",
      "source": [
        "There is no duplicate  value in the data"
      ],
      "metadata": {
        "id": "BDOYiF6fr96Y"
      }
    },
    {
      "cell_type": "markdown",
      "source": [
        "#### Missing Values/Null Values"
      ],
      "metadata": {
        "id": "PoPl-ycgm1ru"
      }
    },
    {
      "cell_type": "code",
      "source": [
        "# Missing Values/Null Values Count\n",
        "df.isna().sum()"
      ],
      "metadata": {
        "id": "GgHWkxvamxVg"
      },
      "execution_count": null,
      "outputs": []
    },
    {
      "cell_type": "markdown",
      "source": [
        "There is no missing value in the data."
      ],
      "metadata": {
        "id": "X8xjUpqvsQVL"
      }
    },
    {
      "cell_type": "code",
      "source": [
        "# Visualizing the missing values\n",
        "missing_values_per = pd.DataFrame((df.isnull().sum()/len(df))*100).reset_index()\n",
        "plt.figure(figsize=(15,5))\n",
        "plt.stem(missing_values_per['index'],missing_values_per[0])\n",
        "plt.xticks(rotation=45,fontsize=10)\n",
        "plt.title('Percentage of Missing Values')\n",
        "plt.ylabel('%')\n",
        "plt.show()\n"
      ],
      "metadata": {
        "id": "3q5wnI3om9sJ"
      },
      "execution_count": null,
      "outputs": []
    },
    {
      "cell_type": "markdown",
      "source": [
        "### What did you know about your dataset?"
      ],
      "metadata": {
        "id": "H0kj-8xxnORC"
      }
    },
    {
      "cell_type": "markdown",
      "source": [
        "There are 4 object type variables which need to be converted to numerical data type for applying a machine learning algorithm. Additionally, it's worth noting that all columns have no missing values, and the dataset comprises 30,000 rows and 25 columns."
      ],
      "metadata": {
        "id": "gfoNAAC-nUe_"
      }
    },
    {
      "cell_type": "markdown",
      "source": [
        "## ***2. Understanding Your Variables***"
      ],
      "metadata": {
        "id": "nA9Y7ga8ng1Z"
      }
    },
    {
      "cell_type": "code",
      "source": [
        "# Dataset Columns\n",
        "df.columns"
      ],
      "metadata": {
        "id": "j7xfkqrt5Ag5"
      },
      "execution_count": null,
      "outputs": []
    },
    {
      "cell_type": "code",
      "source": [
        "# Dataset Describe\n",
        "df.describe()"
      ],
      "metadata": {
        "id": "DnOaZdaE5Q5t"
      },
      "execution_count": null,
      "outputs": []
    },
    {
      "cell_type": "code",
      "source": [
        "df.describe().T"
      ],
      "metadata": {
        "id": "ft0_GlXN5vS4"
      },
      "execution_count": null,
      "outputs": []
    },
    {
      "cell_type": "markdown",
      "source": [
        "### Variables Description"
      ],
      "metadata": {
        "id": "PBTbrJXOngz2"
      }
    },
    {
      "cell_type": "markdown",
      "source": [
        "**Breakdown of Our Features:**\n",
        "\n",
        "We possess data for 30,000 customers, and the following describes all the available features.\n",
        "\n",
        "\n",
        "**ID:** ID of each client\n",
        "\n",
        "\n",
        "**LIMIT_BAL:** Amount of given credit in NT dollars (includes individual and family/supplementary credit)\n",
        "\n",
        "\n",
        "**SEX:** Gender (1 = male, 2 = female)\n",
        "\n",
        "\n",
        "**EDUCATION:** (1 = graduate school, 2 = university, 3 = high school, 0,4,5,6 = others)\n",
        "\n",
        "\n",
        "**MARRIAGE:** Marital status (0 = others, 1 = married, 2 = single, 3 = others)\n",
        "\n",
        "\n",
        "**AGE:** Age in years\n",
        "\n",
        "\n",
        "**Scale for PAY_0 to PAY_6 :**\n",
        "\n",
        "\n",
        "(-2 = No consumption, -1 = paid in full, 0 = use of revolving credit (paid minimum only), 1 = payment delay for one month, 2 = payment delay for two months, ... 8 = payment delay for eight months, 9 = payment delay for nine months and above)\n",
        "\n",
        "\n",
        "**PAY_0:** Repayment status in September, 2005 (scale same as above)\n",
        "\n",
        "\n",
        "**PAY_2:** Repayment status in August, 2005 (scale same as above)\n",
        "\n",
        "\n",
        "**PAY_3:** Repayment status in July, 2005 (scale same as above)\n",
        "\n",
        "\n",
        "**PAY_4:** Repayment status in June, 2005 (scale same as above)\n",
        "\n",
        "\n",
        "**PAY_5:** Repayment status in May, 2005 (scale same as above)\n",
        "\n",
        "\n",
        "**PAY_6:** Repayment status in April, 2005 (scale same as above)\n",
        "\n",
        "\n",
        "**BILL_AMT1:**  Amount of bill statement in September, 2005 (NT dollar)\n",
        "\n",
        "\n",
        "**BILL_AMT2:** Amount of bill statement in August, 2005 (NT dollar)\n",
        "\n",
        "\n",
        "**BILL_AMT3:** Amount of bill statement in July, 2005 (NT dollar)\n",
        "\n",
        "\n",
        "**BILL_AMT4:** Amount of bill statement in June, 2005 (NT dollar)\n",
        "\n",
        "\n",
        "**BILL_AMT5:** Amount of bill statement in May, 2005 (NT dollar)\n",
        "\n",
        "\n",
        "**BILL_AMT6:** Amount of bill statement in April, 2005 (NT dollar)\n",
        "\n",
        "\n",
        "**PAY_AMT1:** Amount of previous payment in September, 2005 (NT dollar)\n",
        "\n",
        "\n",
        "**PAY_AMT2:** Amount of previous payment in August, 2005 (NT dollar)\n",
        "\n",
        "\n",
        "**PAY_AMT3:** Amount of previous payment in July, 2005 (NT dollar)\n",
        "\n",
        "\n",
        "**PAY_AMT4:** Amount of previous payment in June, 2005 (NT dollar)\n",
        "\n",
        "\n",
        "**PAY_AMT5:** Amount of previous payment in May, 2005 (NT dollar)\n",
        "\n",
        "\n",
        "**PAY_AMT6:** Amount of previous payment in April, 2005 (NT dollar)\n",
        "\n",
        "\n",
        "**default.payment.next.month:** Default payment (1=yes, 0=no)"
      ],
      "metadata": {
        "id": "aJV4KIxSnxay"
      }
    },
    {
      "cell_type": "markdown",
      "source": [
        "### Check Unique Values for each variable."
      ],
      "metadata": {
        "id": "u3PMJOP6ngxN"
      }
    },
    {
      "cell_type": "code",
      "source": [
        "# Check Unique Values for each variable.\n",
        "df.nunique()"
      ],
      "metadata": {
        "id": "zms12Yq5n-jE"
      },
      "execution_count": null,
      "outputs": []
    },
    {
      "cell_type": "markdown",
      "source": [
        "## 3. ***Data Wrangling***"
      ],
      "metadata": {
        "id": "dauF4eBmngu3"
      }
    },
    {
      "cell_type": "markdown",
      "source": [
        "### **Analysis of Dependent Variable:**"
      ],
      "metadata": {
        "id": "bKJF3rekwFvQ"
      }
    },
    {
      "cell_type": "code",
      "source": [
        "#renaming\n",
        "df.rename(columns={'default payment next month' : 'default_payment_next_month'}, inplace=True)"
      ],
      "metadata": {
        "id": "9oGG5MkpqFcj"
      },
      "execution_count": null,
      "outputs": []
    },
    {
      "cell_type": "code",
      "source": [
        "# counts the dependent variable data set\n",
        "df['default_payment_next_month'].value_counts()"
      ],
      "metadata": {
        "id": "uth5UtfX8OHr"
      },
      "execution_count": null,
      "outputs": []
    },
    {
      "cell_type": "markdown",
      "source": [
        "### What all manipulations have you done and insights you found?"
      ],
      "metadata": {
        "id": "MSa1f5Uengrz"
      }
    },
    {
      "cell_type": "markdown",
      "source": [
        "Rename the column default payment next month' to 'default_payment_next_month.\n",
        "\n",
        "counts the dependent variable data set\n",
        "\n"
      ],
      "metadata": {
        "id": "LbyXE7I1olp8"
      }
    }
  ]
}